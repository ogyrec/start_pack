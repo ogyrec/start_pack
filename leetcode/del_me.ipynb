{
 "cells": [
  {
   "cell_type": "code",
   "execution_count": 36,
   "id": "a6e52d88-fb89-422e-a98f-845cdd3ebeb5",
   "metadata": {},
   "outputs": [
    {
     "name": "stdout",
     "output_type": "stream",
     "text": [
      "Letters are: {'g', 'e', 's', 'k'}\n",
      "Letters are: {'g', 'e', 's', 'k'}\n"
     ]
    }
   ],
   "source": [
    "GEEK = {'g', 'e', 'k'}\n",
    " \n",
    "# adding 's'\n",
    "GEEK.add('s')\n",
    "print(\"Letters are:\", GEEK)\n",
    " \n",
    "# adding 's' again\n",
    "GEEK.add('s')\n",
    "print(\"Letters are:\", GEEK)"
   ]
  },
  {
   "cell_type": "code",
   "execution_count": 35,
   "id": "9eed3342-c7c3-4181-b56a-6ad83ebe7576",
   "metadata": {},
   "outputs": [
    {
     "name": "stdout",
     "output_type": "stream",
     "text": [
      "4\n"
     ]
    }
   ],
   "source": [
    "print(maxProfit([1,2,3,4,5]))"
   ]
  },
  {
   "cell_type": "code",
   "execution_count": 45,
   "id": "5da93f79-35f2-4169-be71-27f721b34bdf",
   "metadata": {},
   "outputs": [
    {
     "data": {
      "text/plain": [
       "[1, 2, 3]"
      ]
     },
     "execution_count": 45,
     "metadata": {},
     "output_type": "execute_result"
    }
   ],
   "source": [
    "a = [3,2,1]\n",
    "a = sorted(a)\n",
    "a"
   ]
  },
  {
   "cell_type": "code",
   "execution_count": 78,
   "id": "5440e096-eff3-4017-8077-62c7b56728b6",
   "metadata": {
    "tags": []
   },
   "outputs": [
    {
     "data": {
      "text/plain": [
       "\u001b[0;31mType:\u001b[0m        tuple\n",
       "\u001b[0;31mString form:\u001b[0m (22, 33)\n",
       "\u001b[0;31mLength:\u001b[0m      2\n",
       "\u001b[0;31mDocstring:\u001b[0m  \n",
       "Built-in immutable sequence.\n",
       "\n",
       "If no argument is given, the constructor returns an empty tuple.\n",
       "If iterable is specified the tuple is initialized from iterable's items.\n",
       "\n",
       "If the argument is a tuple, the return value is the same object.\n"
      ]
     },
     "metadata": {},
     "output_type": "display_data"
    }
   ],
   "source": [
    "a = ('2','3')\n",
    "b = (22,33,)\n",
    "b?"
   ]
  },
  {
   "cell_type": "code",
   "execution_count": 81,
   "id": "7ca30274-7daf-4de6-a9d7-3e6df29551eb",
   "metadata": {},
   "outputs": [
    {
     "data": {
      "text/plain": [
       "{(22, 33): 11}"
      ]
     },
     "execution_count": 81,
     "metadata": {},
     "output_type": "execute_result"
    }
   ],
   "source": [
    "d = {}\n",
    "dd = {}\n",
    "# d[a[1]] = 11\n",
    "d[b] = 11\n",
    "dd[a] = 2\n",
    "d"
   ]
  },
  {
   "cell_type": "code",
   "execution_count": 83,
   "id": "99573aa3-31e7-4c8a-a5f4-c71ff4b287d7",
   "metadata": {},
   "outputs": [
    {
     "data": {
      "text/plain": [
       "[4, 3, 2, 1]"
      ]
     },
     "execution_count": 83,
     "metadata": {},
     "output_type": "execute_result"
    }
   ],
   "source": [
    "a = [1,2,3,4]\n",
    "a[::-1]"
   ]
  },
  {
   "cell_type": "code",
   "execution_count": 89,
   "id": "a878dbb7-aeb9-447d-88f3-9f9d23aea838",
   "metadata": {},
   "outputs": [],
   "source": [
    "arr = [17,18,5,4,6,1]"
   ]
  },
  {
   "cell_type": "code",
   "execution_count": 108,
   "id": "ccb79298-7336-4f85-83f0-6fc148147767",
   "metadata": {},
   "outputs": [
    {
     "name": "stdout",
     "output_type": "stream",
     "text": [
      "[5, 4, 3, 2, 1, 0]\n",
      "[0, 1, 2, 3, 4, 5]\n"
     ]
    }
   ],
   "source": [
    "# print([i for i in range(len(arr)-1, 100, 2)])\n",
    "print([i for i in range(len(arr)-1, -1, -1)])\n",
    "print([i for i in range(len(arr))])"
   ]
  },
  {
   "cell_type": "code",
   "execution_count": 119,
   "id": "d9292c33-2750-4ee9-8bc0-b73a731527e3",
   "metadata": {},
   "outputs": [],
   "source": [
    "class Solution:\n",
    "    def isSubsequence(self, s: str, t: str) -> bool:\n",
    "        i, j = 0, 0\n",
    "        while i < len(s) and j < len(t):\n",
    "\n",
    "            if s[i] == t[j]:\n",
    "                i += 1\n",
    "            print(i, '/', j)                \n",
    "            j += 1\n",
    "        return i == len(s)\n"
   ]
  },
  {
   "cell_type": "code",
   "execution_count": 127,
   "id": "3b0383d6-c7a2-48b2-8647-6c718bd60c70",
   "metadata": {},
   "outputs": [
    {
     "data": {
      "text/plain": [
       "{'1': 1}"
      ]
     },
     "execution_count": 127,
     "metadata": {},
     "output_type": "execute_result"
    }
   ],
   "source": [
    "dict_= {}\n",
    "pref = '1'\n",
    "dict_[pref] = 1 + dict_.get(pref, 0) \n",
    "dict_"
   ]
  },
  {
   "cell_type": "code",
   "execution_count": 130,
   "id": "85aabeb2-8c7b-4ebf-a30e-4e3441d70dc5",
   "metadata": {},
   "outputs": [
    {
     "data": {
      "text/plain": [
       "[0, 1, 2]"
      ]
     },
     "execution_count": 130,
     "metadata": {},
     "output_type": "execute_result"
    }
   ],
   "source": [
    "[x for x in range(0,3)]"
   ]
  },
  {
   "cell_type": "code",
   "execution_count": 135,
   "id": "58311dac-afd6-4d51-ae95-4c8c0e6ec35a",
   "metadata": {},
   "outputs": [
    {
     "data": {
      "text/plain": [
       "[('p', 't'), ('a', 'i'), ('p', 't'), ('e', 'l'), ('r', 'e')]"
      ]
     },
     "execution_count": 135,
     "metadata": {},
     "output_type": "execute_result"
    }
   ],
   "source": [
    "s = \"paper\"\n",
    "t = \"titler\"\n",
    "list(zip(s, t))"
   ]
  },
  {
   "cell_type": "code",
   "execution_count": 137,
   "id": "5d843c87-c632-4d5c-a251-319b61e43ba3",
   "metadata": {},
   "outputs": [
    {
     "data": {
      "text/plain": [
       "[7, 3, 6, 5, 6]"
      ]
     },
     "execution_count": 137,
     "metadata": {},
     "output_type": "execute_result"
    }
   ],
   "source": [
    "a = [1,7,3,6,5,6]\n",
    "a[1:]"
   ]
  },
  {
   "cell_type": "code",
   "execution_count": 145,
   "id": "fe44f35c-a9df-44d6-9760-e31629c1a030",
   "metadata": {},
   "outputs": [
    {
     "data": {
      "text/plain": [
       "['dog', 'cat', 'cat', '', 'dog']"
      ]
     },
     "execution_count": 145,
     "metadata": {},
     "output_type": "execute_result"
    }
   ],
   "source": [
    "\"dog cat cat  dog  \".strip().split(' ')"
   ]
  },
  {
   "cell_type": "code",
   "execution_count": null,
   "id": "d3b5eff6-5143-4b19-bdac-01d0f2503470",
   "metadata": {},
   "outputs": [],
   "source": []
  }
 ],
 "metadata": {
  "kernelspec": {
   "display_name": "Python 3 (ipykernel)",
   "language": "python",
   "name": "python3"
  },
  "language_info": {
   "codemirror_mode": {
    "name": "ipython",
    "version": 3
   },
   "file_extension": ".py",
   "mimetype": "text/x-python",
   "name": "python",
   "nbconvert_exporter": "python",
   "pygments_lexer": "ipython3",
   "version": "3.9.12"
  }
 },
 "nbformat": 4,
 "nbformat_minor": 5
}
