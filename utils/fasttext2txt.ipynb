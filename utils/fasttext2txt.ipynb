{
 "cells": [
  {
   "cell_type": "code",
   "execution_count": 46,
   "metadata": {},
   "outputs": [],
   "source": [
    "import sys\n",
    "import os\n",
    "import shutil\n",
    "import json\n",
    "import numpy as np\n",
    "import pandas as pd\n",
    "from collections import defaultdict\n",
    "import re\n",
    "from IPython.display import clear_output\n",
    "import dataset\n",
    "from sklearn.feature_extraction.text import CountVectorizer\n",
    "from sklearn.metrics.pairwise import cosine_similarity\n",
    "from gensim.models import fasttext"
   ]
  },
  {
   "cell_type": "code",
   "execution_count": 2,
   "metadata": {},
   "outputs": [],
   "source": [
    "ft_vec_path = '/datadrive/ft_native_300_ru_wiki_lenta_remstopwords.bin'\n",
    "ft_model = fasttext.load_facebook_vectors(ft_vec_path)"
   ]
  },
  {
   "cell_type": "code",
   "execution_count": 57,
   "metadata": {},
   "outputs": [],
   "source": [
    "def makeFastexTxt(fast_text, vocab):\n",
    "    w2v = defaultdict()\n",
    "    for w in vocab:\n",
    "        w2v[w] = fast_text[w]\n",
    "    return w2v    "
   ]
  },
  {
   "cell_type": "code",
   "execution_count": 80,
   "metadata": {},
   "outputs": [],
   "source": [
    "vocab = {'флигель', 'отчего', 'собственным'}\n",
    "vocab2 = {'дома', 'зачем', 'применим'}\n",
    "txt = makeFastexTxt(ft_model, vocab)\n",
    "txt2 = makeFastexTxt(ft_model, vocab2)"
   ]
  },
  {
   "cell_type": "code",
   "execution_count": 93,
   "metadata": {},
   "outputs": [],
   "source": [
    "with open(\"output.txt\", \"w\") as txt_file:\n",
    "    for w in txt:\n",
    "        vec = ft_model[w]\n",
    "        arr2srt = str(vec.tolist()).replace('[','').replace(']','').replace(',','')\n",
    "        txt_file.write(w +' '+arr2srt + \"\\n\")"
   ]
  },
  {
   "cell_type": "code",
   "execution_count": null,
   "metadata": {},
   "outputs": [],
   "source": []
  }
 ],
 "metadata": {
  "kernelspec": {
   "display_name": "Python 3",
   "language": "python",
   "name": "python3"
  },
  "language_info": {
   "codemirror_mode": {
    "name": "ipython",
    "version": 3
   },
   "file_extension": ".py",
   "mimetype": "text/x-python",
   "name": "python",
   "nbconvert_exporter": "python",
   "pygments_lexer": "ipython3",
   "version": "3.6.10"
  }
 },
 "nbformat": 4,
 "nbformat_minor": 4
}
