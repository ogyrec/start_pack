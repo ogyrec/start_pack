{
 "cells": [
  {
   "cell_type": "code",
   "execution_count": 1,
   "metadata": {},
   "outputs": [],
   "source": [
    "import requests\n",
    "from concurrent.futures import ThreadPoolExecutor"
   ]
  },
  {
   "attachments": {},
   "cell_type": "markdown",
   "metadata": {},
   "source": [
    "# Requests to the Model on torch serve"
   ]
  },
  {
   "cell_type": "code",
   "execution_count": 1,
   "metadata": {},
   "outputs": [],
   "source": [
    "def get_response(request_data):\n",
    "#     print(f'request_data {request_data}')\n",
    "    return requests.post('http://0.0.0.0:8080/predictions/bert_multiclass', data=request_data)\n",
    "\n",
    "def _response_data(response_list):\n",
    "    clfs_size = 12\n",
    "    count_200 = [0 if res.status_code == 200 else 1 for res in response_list]\n",
    "    print(f'count_200 sum {sum(count_200)}')    \n",
    "    return [res.json() if res.status_code == 200 else [0] * clfs_size for res in response_list]\n",
    "\n",
    "def query(data, **kwargs):\n",
    "    \"\"\"\n",
    "    Sends the batches to server\n",
    "    :param data: input texts\n",
    "\n",
    "    :return: list of replies\n",
    "    \"\"\"   \n",
    "    \n",
    "    BSIZE = 32\n",
    "    num_news = len(data)\n",
    "    if num_news == 0:\n",
    "        return []\n",
    "\n",
    "    responses = []\n",
    "    request_list = [{\"data\": sent} for sent in data]\n",
    "\n",
    "        \n",
    "    \n",
    "    n_batches = len(request_list) // BSIZE\n",
    "\n",
    "    for i, slc in enumerate(range(n_batches + 1)):\n",
    "        req_slice = request_list[slc * BSIZE:(slc + 1) * BSIZE]\n",
    "        with ThreadPoolExecutor(max_workers=BSIZE) as pool:\n",
    "            responses += list(pool.map(get_response, req_slice))\n",
    "            \n",
    "    responses_data = _response_data(responses)\n",
    "    num_proper_replies = sum([res.status_code == 200 for res in responses])\n",
    "    \n",
    "    \n",
    "    assert len(responses_data) == num_news, \\\n",
    "        f\"Something went wrong with the server, got {len(responses_data)} instead of {num_news}\"\n",
    "\n",
    "    return responses_data\n",
    "\n"
   ]
  },
  {
   "cell_type": "code",
   "execution_count": null,
   "metadata": {},
   "outputs": [],
   "source": []
  }
 ],
 "metadata": {
  "kernelspec": {
   "display_name": "Python 3",
   "language": "python",
   "name": "python3"
  },
  "language_info": {
   "codemirror_mode": {
    "name": "ipython",
    "version": 3
   },
   "file_extension": ".py",
   "mimetype": "text/x-python",
   "name": "python",
   "nbconvert_exporter": "python",
   "pygments_lexer": "ipython3",
   "version": "3.7.2"
  },
  "vscode": {
   "interpreter": {
    "hash": "aee8b7b246df8f9039afb4144a1f6fd8d2ca17a180786b69acc140d282b71a49"
   }
  }
 },
 "nbformat": 4,
 "nbformat_minor": 4
}
