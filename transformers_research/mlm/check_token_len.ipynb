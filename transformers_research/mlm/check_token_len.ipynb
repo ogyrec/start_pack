{
 "cells": [
  {
   "cell_type": "code",
   "execution_count": 19,
   "id": "eda5fa72-b5a5-496b-9cff-f85377225353",
   "metadata": {},
   "outputs": [],
   "source": [
    "import os\n",
    "import warnings\n",
    "\n",
    "import matplotlib\n",
    "import tqdm\n",
    "from tqdm.notebook import tqdm\n",
    "from tqdm.contrib.telegram import tqdm\n",
    "import torch\n",
    "from transformers import  RobertaTokenizer, RobertaModel"
   ]
  },
  {
   "attachments": {},
   "cell_type": "markdown",
   "id": "d11abb4c",
   "metadata": {},
   "source": [
    "# Use Tokenizer to calculate token size statistics"
   ]
  },
  {
   "cell_type": "code",
   "execution_count": null,
   "id": "e64704bb-7704-4835-a17f-cbb36d15436c",
   "metadata": {},
   "outputs": [],
   "source": [
    "tqdm.pandas()\n",
    "warnings.filterwarnings('ignore')\n",
    "matplotlib.rcParams.update({'figure.figsize': (16, 12), 'font.size': 14})\n",
    "%matplotlib inline\n",
    "os.environ['TOKENIZERS_PARALLELISM'] = 'false'\n",
    "\n",
    "\n"
   ]
  },
  {
   "cell_type": "code",
   "execution_count": null,
   "id": "2b2d07de-9edf-42a7-a5e4-2c8f47440810",
   "metadata": {},
   "outputs": [],
   "source": [
    "import pickle\n",
    "with open('/home/jovyan/sentences.pkl', 'rb') as f:\n",
    "    sentences = pickle.load(f)   "
   ]
  },
  {
   "cell_type": "code",
   "execution_count": 17,
   "id": "4579caa8-05d5-4060-8af5-610bdc17cd3f",
   "metadata": {},
   "outputs": [
    {
     "data": {
      "text/plain": [
       "27309035"
      ]
     },
     "execution_count": 17,
     "metadata": {},
     "output_type": "execute_result"
    }
   ],
   "source": [
    "len(sentences)"
   ]
  },
  {
   "cell_type": "code",
   "execution_count": 6,
   "id": "2e74d922-7981-4b99-b3d0-8879c914671f",
   "metadata": {},
   "outputs": [
    {
     "data": {
      "application/vnd.jupyter.widget-view+json": {
       "model_id": "135567b458b84dc0a22298d4f5e2f4b6",
       "version_major": 2,
       "version_minor": 0
      },
      "text/plain": [
       "Downloading vocab.json:   0%|          | 0.00/1.73M [00:00<?, ?B/s]"
      ]
     },
     "metadata": {},
     "output_type": "display_data"
    },
    {
     "data": {
      "application/vnd.jupyter.widget-view+json": {
       "model_id": "323f19a4aeb449d19d8d87ee5a3d32d4",
       "version_major": 2,
       "version_minor": 0
      },
      "text/plain": [
       "Downloading merges.txt:   0%|          | 0.00/1.31M [00:00<?, ?B/s]"
      ]
     },
     "metadata": {},
     "output_type": "display_data"
    },
    {
     "data": {
      "application/vnd.jupyter.widget-view+json": {
       "model_id": "127497cd018b459988cdb40a9ba57846",
       "version_major": 2,
       "version_minor": 0
      },
      "text/plain": [
       "Downloading config.json:   0%|          | 0.00/674 [00:00<?, ?B/s]"
      ]
     },
     "metadata": {},
     "output_type": "display_data"
    }
   ],
   "source": [
    "model_name = 'sberbank-ai/ruRoberta-large'\n",
    "tokenizer = RobertaTokenizer.from_pretrained(model_name, do_lower_case=False)  "
   ]
  },
  {
   "cell_type": "code",
   "execution_count": 34,
   "id": "d67741d6-7586-4aff-8eb2-a1dbdd4d9219",
   "metadata": {},
   "outputs": [],
   "source": [
    "class DescriptionDataset(Dataset):\n",
    "    def __init__(self, tokenizer, descs, max_len=256):\n",
    "        self.descs = descs\n",
    "        self.max_len = max_len\n",
    "        self.tokenizer = tokenizer\n",
    "        \n",
    "        \n",
    "    def __getitem__(self, idx):\n",
    "        \n",
    "        desc_cls = '[CLS]' + self.descs[idx]       \n",
    "        tokenized_desc_cls = self.get_tokens(desc_cls, max_len=64)\n",
    "        cat_ids = tokenized_desc_cls['input_ids']\n",
    "        cat_atts = tokenized_desc_cls['attention_mask']                \n",
    "        \n",
    "        labels = cat_ids.detach().clone()\n",
    "        \n",
    "        tokenized_descs = {\n",
    "            \"input_ids\": self.get_masked(cat_ids),\n",
    "            \"attention_mask\": cat_atts,\n",
    "            \"labels\": labels\n",
    "        }\n",
    "        \n",
    "        return tokenized_descs\n",
    "\n",
    "    def __len__(self):\n",
    "        return len(self.descs)\n",
    "    \n",
    "    def get_tokens(self, row, max_len=128, pad_str='max_length'):\n",
    "        tokenized = self.tokenizer.encode_plus(\n",
    "            row, add_special_tokens=False, truncation=True,\n",
    "             padding=pad_str, \n",
    "            return_tensors='pt', return_token_type_ids=False\n",
    "        )\n",
    "        return tokenized\n",
    "    \n",
    "    def get_masked(self, input_ids):\n",
    "        # create random array of floats with equal dimensions to input_ids tensor\n",
    "        rand = torch.rand(input_ids.shape)\n",
    "        # create mask array\n",
    "        mask_arr = (rand < 0.15) * (input_ids != 101) * \\\n",
    "                   (input_ids != 102) * (input_ids != 0)\n",
    "        \n",
    "        input_ids[mask_arr] = 103\n",
    "            \n",
    "        return input_ids"
   ]
  },
  {
   "cell_type": "code",
   "execution_count": 40,
   "id": "a9134174-4f6b-4693-b65a-f7c6c9d9cfb1",
   "metadata": {},
   "outputs": [],
   "source": [
    "train_data = DescriptionDataset(\n",
    "    tokenizer,\n",
    "    sentences\n",
    ")\n",
    "iterator = DataLoader(train_data, batch_size=1, num_workers=4, pin_memory=True)"
   ]
  },
  {
   "cell_type": "code",
   "execution_count": null,
   "id": "fa9125ef-85f6-445a-bbc3-fe22c2648e5a",
   "metadata": {
    "tags": []
   },
   "outputs": [],
   "source": [
    "list_len = []\n",
    "for i, batch in enumerate(iterator):\n",
    "    list_len.append(len(batch['input_ids'][0][0]))"
   ]
  },
  {
   "cell_type": "code",
   "execution_count": 43,
   "id": "0c319ffb-5032-436f-a1c8-2dc939a677ea",
   "metadata": {},
   "outputs": [
    {
     "data": {
      "image/png": "[encoded data removed]",
      "text/plain": [
       "<Figure size 432x288 with 1 Axes>"
      ]
     },
     "metadata": {
      "needs_background": "light"
     },
     "output_type": "display_data"
    }
   ],
   "source": [
    "import numpy as np\n",
    "import random\n",
    "from matplotlib import pyplot as plt\n",
    "\n",
    "data = np.array(list_len)\n",
    "\n",
    "# fixed bin size\n",
    "bins = np.arange(-100, 100, 5) # fixed bin size\n",
    "\n",
    "plt.xlim([min(data)-5, 150])\n",
    "\n",
    "plt.hist(data, bins=bins, alpha=0.5)\n",
    "\n",
    "plt.show()"
   ]
  },
  {
   "cell_type": "code",
   "execution_count": null,
   "id": "f3761955-9a35-4433-902c-3b134ba30012",
   "metadata": {},
   "outputs": [],
   "source": []
  },
  {
   "cell_type": "code",
   "execution_count": null,
   "id": "faa3c47a-e67b-437b-af92-0d06817b635b",
   "metadata": {},
   "outputs": [],
   "source": []
  },
  {
   "cell_type": "code",
   "execution_count": null,
   "id": "e2f2e943-4369-4ab3-ae73-a89b9702ba6e",
   "metadata": {},
   "outputs": [],
   "source": []
  },
  {
   "cell_type": "code",
   "execution_count": null,
   "id": "ec167856-80a9-4a2a-bc29-b8203f5eb337",
   "metadata": {},
   "outputs": [],
   "source": []
  },
  {
   "cell_type": "code",
   "execution_count": null,
   "id": "80d55cd7-e3bc-47ee-8670-f8b8953bd0fc",
   "metadata": {},
   "outputs": [],
   "source": []
  },
  {
   "cell_type": "code",
   "execution_count": null,
   "id": "4092a92e-87a5-48c7-8712-5721d3ce6750",
   "metadata": {},
   "outputs": [],
   "source": []
  },
  {
   "cell_type": "code",
   "execution_count": null,
   "id": "6c077914-9276-47ba-ab87-5c5252bab423",
   "metadata": {},
   "outputs": [],
   "source": []
  },
  {
   "cell_type": "code",
   "execution_count": 7,
   "id": "e530d354-f0fc-41be-9d55-c1b6abc8b806",
   "metadata": {},
   "outputs": [
    {
     "name": "stderr",
     "output_type": "stream",
     "text": [
      "Asking to truncate to max_length but no maximum length is provided and the model has no predefined maximum length. Default to no truncation.\n",
      "Asking to truncate to max_length but no maximum length is provided and the model has no predefined maximum length. Default to no truncation.\n"
     ]
    },
    {
     "name": "stdout",
     "output_type": "stream",
     "text": [
      "CPU times: user 73.8 ms, sys: 2.19 s, total: 2.27 s\n",
      "Wall time: 4.05 s\n"
     ]
    }
   ],
   "source": [
    "%%time\n",
    "def len_tkns(ss):\n",
    "    ret = [tokenizer.encode_plus(x, add_special_tokens=False, truncation=True,             \n",
    "            return_tensors='pt', return_token_type_ids=False) for x in ss]\n",
    "#     ret = [len(x) for x in ret]\n",
    "    return ret\n",
    "    \n",
    "\n",
    "with Pool(16) as pl:\n",
    "    output_lens = pl.map(len_tkns, sentences[:2]) "
   ]
  },
  {
   "cell_type": "code",
   "execution_count": null,
   "id": "484daa3d-ee0c-4882-9ba4-5f979bac74c4",
   "metadata": {},
   "outputs": [],
   "source": []
  },
  {
   "cell_type": "code",
   "execution_count": null,
   "id": "999fad39-fbc8-4f25-8249-a35d97a1fb78",
   "metadata": {},
   "outputs": [],
   "source": []
  },
  {
   "cell_type": "code",
   "execution_count": null,
   "id": "dadf1f72-d132-41fa-874f-b693d2d8a0b2",
   "metadata": {},
   "outputs": [],
   "source": []
  }
 ],
 "metadata": {
  "kernelspec": {
   "display_name": "Python 3",
   "language": "python",
   "name": "python3"
  },
  "language_info": {
   "codemirror_mode": {
    "name": "ipython",
    "version": 3
   },
   "file_extension": ".py",
   "mimetype": "text/x-python",
   "name": "python",
   "nbconvert_exporter": "python",
   "pygments_lexer": "ipython3",
   "version": "3.7.2"
  },
  "vscode": {
   "interpreter": {
    "hash": "aee8b7b246df8f9039afb4144a1f6fd8d2ca17a180786b69acc140d282b71a49"
   }
  }
 },
 "nbformat": 4,
 "nbformat_minor": 5
}
